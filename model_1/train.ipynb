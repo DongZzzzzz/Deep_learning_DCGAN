{
 "cells": [
  {
   "cell_type": "code",
   "execution_count": null,
   "metadata": {},
   "outputs": [],
   "source": [
    "import torch\n",
    "import torch.utils.data as Data\n",
    "import torch.nn as nn\n",
    "import torch.optim as optim\n",
    "import matplotlib.pyplot as plt"
   ]
  },
  {
   "cell_type": "code",
   "execution_count": null,
   "metadata": {},
   "outputs": [],
   "source": [
    "# 使用GPU\n",
    "device = torch.device(\"cuda\" if (torch.cuda.is_available() and ngpu > 0) else \"cpu\")"
   ]
  },
  {
   "cell_type": "code",
   "execution_count": null,
   "metadata": {},
   "outputs": [],
   "source": [
    "# 加载的图片的大小\n",
    "IMG_SIZE = 64\n",
    "\n",
    "# 批量大小\n",
    "BATCH_SIZE = 64\n",
    "\n",
    "# 可利用的GPU数量，使用0将运行在CPU模式。\n",
    "ngpu = 1\n",
    "\n",
    "# 训练次数\n",
    "num_epochs = 1000\n",
    "\n",
    "# 训练图片的通道数，彩色图片是3\n",
    "nc = 3\n",
    "\n",
    "# 本征向量z的大小(生成器的输入大小)\n",
    "nz = 100\n",
    "\n",
    "# 生成器中特征图大小\n",
    "ngf = 64\n",
    "\n",
    "# 判别器中特征图大小\n",
    "ndf = 64\n",
    "\n",
    "# 优化器学习率\n",
    "lr = 0.0002\n",
    "\n",
    "# Adam优化器的Beta1超参\n",
    "beta1 = 0.5"
   ]
  },
  {
   "cell_type": "markdown",
   "metadata": {},
   "source": [
    "# 加载数据集"
   ]
  },
  {
   "cell_type": "code",
   "execution_count": null,
   "metadata": {},
   "outputs": [],
   "source": [
    "import torchvision.datasets as dset\n",
    "import torchvision.transforms as transforms\n",
    "\n",
    "dataset = dset.ImageFolder(root='./anime-faces',\n",
    "                           transform=transforms.Compose([\n",
    "                               transforms.Resize(IMG_SIZE),\n",
    "                               transforms.CenterCrop(IMG_SIZE),\n",
    "                               transforms.ToTensor(),\n",
    "                               transforms.Normalize((0.5, 0.5, 0.5), (0.5, 0.5, 0.5)),\n",
    "                           ]))\n",
    "\n",
    "loader = Data.DataLoader(\n",
    "    dataset = dataset,\n",
    "    batch_size=BATCH_SIZE,\n",
    "    shuffle=True,\n",
    "    num_workers=2\n",
    ")"
   ]
  },
  {
   "cell_type": "code",
   "execution_count": null,
   "metadata": {},
   "outputs": [],
   "source": [
    "# 在netG和netD上调用的自定义权重初始化函数\n",
    "# GAN作者的定义\n",
    "def weights_init(m):\n",
    "    classname = m.__class__.__name__\n",
    "    if classname.find('Conv') != -1:\n",
    "        nn.init.normal_(m.weight.data, 0.0, 0.02)\n",
    "    elif classname.find('BatchNorm') != -1:\n",
    "        nn.init.normal_(m.weight.data, 1.0, 0.02)\n",
    "        nn.init.constant_(m.bias.data, 0)"
   ]
  },
  {
   "cell_type": "code",
   "execution_count": null,
   "metadata": {},
   "outputs": [],
   "source": [
    "# 生成器代码\n",
    "\n",
    "class Generator(nn.Module):\n",
    "    def __init__(self, ngpu):\n",
    "        super(Generator, self).__init__()\n",
    "        self.ngpu = ngpu\n",
    "        self.main = nn.Sequential(\n",
    "            # 输入是 Z, 对Z进行卷积\n",
    "            nn.ConvTranspose2d( nz, ngf * 8, 4, 1, 0, bias=False),\n",
    "            nn.BatchNorm2d(ngf * 8),\n",
    "            nn.ReLU(True),\n",
    "            # 输入特征图大小. (ngf*8) x 4 x 4\n",
    "            nn.ConvTranspose2d(ngf * 8, ngf * 4, 4, 2, 1, bias=False),\n",
    "            nn.BatchNorm2d(ngf * 4),\n",
    "            nn.ReLU(True),\n",
    "            # 输入特征图大小. (ngf*4) x 8 x 8\n",
    "            nn.ConvTranspose2d( ngf * 4, ngf * 2, 4, 2, 1, bias=False),\n",
    "            nn.BatchNorm2d(ngf * 2),\n",
    "            nn.ReLU(True),\n",
    "            # 输入特征图大小. (ngf*2) x 16 x 16\n",
    "            nn.ConvTranspose2d( ngf * 2, ngf, 4, 2, 1, bias=False),\n",
    "            nn.BatchNorm2d(ngf),\n",
    "            nn.ReLU(True),\n",
    "            # 输入特征图大小. (ngf) x 32 x 32\n",
    "            nn.ConvTranspose2d( ngf, nc, 4, 2, 1, bias=False),\n",
    "            nn.Tanh()\n",
    "            # 输入特征图大小. (nc) x 64 x 64\n",
    "        )\n",
    "\n",
    "    def forward(self, input):\n",
    "        return self.main(input)"
   ]
  },
  {
   "cell_type": "code",
   "execution_count": null,
   "metadata": {},
   "outputs": [],
   "source": [
    "class Discriminator(nn.Module):\n",
    "    def __init__(self, ngpu):\n",
    "        super(Discriminator, self).__init__()\n",
    "        self.ngpu = ngpu\n",
    "        self.main = nn.Sequential(\n",
    "            # 输入大小 (nc) x 64 x 64\n",
    "            nn.Conv2d(nc, ndf, 4, 2, 1, bias=False),\n",
    "            nn.LeakyReLU(0.2, inplace=True),\n",
    "            # state size. (ndf) x 32 x 32\n",
    "            nn.Conv2d(ndf, ndf * 2, 4, 2, 1, bias=False),\n",
    "            nn.BatchNorm2d(ndf * 2),\n",
    "            nn.LeakyReLU(0.2, inplace=True),\n",
    "            # 输入大小. (ndf*2) x 16 x 16\n",
    "            nn.Conv2d(ndf * 2, ndf * 4, 4, 2, 1, bias=False),\n",
    "            nn.BatchNorm2d(ndf * 4),\n",
    "            nn.LeakyReLU(0.2, inplace=True),\n",
    "            # 输入大小. (ndf*4) x 8 x 8\n",
    "            nn.Conv2d(ndf * 4, ndf * 8, 4, 2, 1, bias=False),\n",
    "            nn.BatchNorm2d(ndf * 8),\n",
    "            nn.LeakyReLU(0.2, inplace=True),\n",
    "            # 输入大小. (ndf*8) x 4 x 4\n",
    "            nn.Conv2d(ndf * 8, 1, 4, 1, 0, bias=False),\n",
    "            nn.Sigmoid()\n",
    "        )\n",
    "\n",
    "    def forward(self, input):\n",
    "        return self.main(input)"
   ]
  },
  {
   "cell_type": "code",
   "execution_count": null,
   "metadata": {},
   "outputs": [],
   "source": [
    "# 创建生成器\n",
    "generator = Generator(ngpu).to(device)\n",
    "\n",
    "# 使用权重初始化函数 weights_init 去随机初始化所有权重\n",
    "#  mean=0, stdev=0.2.\n",
    "generator.apply(weights_init)\n",
    "\n",
    "# 输出该模型\n",
    "print(generator)"
   ]
  },
  {
   "cell_type": "code",
   "execution_count": null,
   "metadata": {},
   "outputs": [],
   "source": [
    "# 创建判别器\n",
    "discriminator = Discriminator(ngpu).to(device)\n",
    "\n",
    "# 使用权重初始化函数 weights_init 去随机初始化所有权重\n",
    "#  mean=0, stdev=0.2.\n",
    "discriminator.apply(weights_init)\n",
    "\n",
    "# 输出该模型\n",
    "print(discriminator)"
   ]
  },
  {
   "cell_type": "code",
   "execution_count": null,
   "metadata": {},
   "outputs": [],
   "source": [
    "# 初始化 BCE损失函数\n",
    "adversarial_loss = nn.BCELoss().to(device)\n",
    "\n",
    "# 为G和D都设置Adam优化器\n",
    "optimizer_D = optim.Adam(discriminator.parameters(), lr=lr, betas=(beta1, 0.999))\n",
    "optimizer_G = optim.Adam(generator.parameters(), lr=lr, betas=(beta1, 0.999))"
   ]
  },
  {
   "cell_type": "code",
   "execution_count": null,
   "metadata": {},
   "outputs": [],
   "source": [
    "for epoch in range(num_epochs):\n",
    "    # 数据加载器中的每个批次\n",
    "    for step, (bacth_x,bacth_y) in enumerate(loader):\n",
    "        \n",
    "        real_imgs = bacth_x\n",
    "        # 生成数据的标签\n",
    "        valid = torch.ones(bacth_x.size(0),1,dtype=torch.float32).to(device) # 真实数据标签为1.0\n",
    "        fake = torch.zeros(bacth_x.size(0),1,dtype=torch.float32).to(device) # 假数据标签为0.0\n",
    "\n",
    "\n",
    "        # ---------\n",
    "        # 生成器\n",
    "        # ---------\n",
    "        optimizer_G.zero_grad()\n",
    "\n",
    "        # 生成输入的灵感 \n",
    "        z = torch.randn((bacth_x.size(0), nz,1,1)).to(device) # print(z.shape) (64,100)\n",
    "    \n",
    "        # 生成器输出\n",
    "        gen_imgs = generator(z)\n",
    "\n",
    "        # 生成器代价函数\n",
    "        g_loss = adversarial_loss(discriminator(gen_imgs), valid)\n",
    "        g_loss.backward()\n",
    "        optimizer_G.step()\n",
    "\n",
    "        # ---------\n",
    "        #  判别器\n",
    "        # ---------\n",
    "\n",
    "        optimizer_D.zero_grad()\n",
    "\n",
    "        # 计算代价函数\n",
    "        real_loss = adversarial_loss(discriminator(real_imgs.to(device)), valid)\n",
    "        fake_loss = adversarial_loss(discriminator(gen_imgs.detach()), fake)\n",
    "        d_loss = (real_loss + fake_loss) / 2\n",
    "\n",
    "        d_loss.backward()\n",
    "        optimizer_D.step()\n",
    "        \n",
    "\n",
    "    if epoch % 5 ==0:\n",
    "        print(g_loss)\n",
    "        print(d_loss)      "
   ]
  }
 ],
 "metadata": {
  "kernelspec": {
   "display_name": "Python 3",
   "language": "python",
   "name": "python3"
  },
  "language_info": {
   "codemirror_mode": {
    "name": "ipython",
    "version": 3
   },
   "file_extension": ".py",
   "mimetype": "text/x-python",
   "name": "python",
   "nbconvert_exporter": "python",
   "pygments_lexer": "ipython3",
   "version": "3.7.6"
  }
 },
 "nbformat": 4,
 "nbformat_minor": 4
}
